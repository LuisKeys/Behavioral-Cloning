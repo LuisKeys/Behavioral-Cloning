{
 "cells": [
  {
   "cell_type": "code",
   "execution_count": 13,
   "metadata": {},
   "outputs": [
    {
     "name": "stdout",
     "output_type": "stream",
     "text": [
      "Reading CSV...\n",
      "Amount of data items:8036\n",
      "Reading output values and images...\n",
      "Training NN...\n",
      "Train on 192 samples, validate on 48 samples\n",
      "Epoch 1/5\n",
      "192/192 [==============================] - 6s - loss: 2.6646 - val_loss: 1.5027\n",
      "Epoch 2/5\n",
      "192/192 [==============================] - 6s - loss: 0.5863 - val_loss: 0.0737\n",
      "Epoch 3/5\n",
      "192/192 [==============================] - 6s - loss: 0.1016 - val_loss: 0.1231\n",
      "Epoch 4/5\n",
      "192/192 [==============================] - 6s - loss: 0.0787 - val_loss: 0.0661\n",
      "Epoch 5/5\n",
      "192/192 [==============================] - 6s - loss: 0.0493 - val_loss: 0.0427\n"
     ]
    },
    {
     "data": {
      "image/png": "[encoded data removed]",
      "text/plain": [
       "<matplotlib.figure.Figure at 0x7f17d7183518>"
      ]
     },
     "metadata": {},
     "output_type": "display_data"
    },
    {
     "name": "stdout",
     "output_type": "stream",
     "text": [
      "Trained model saved...\n"
     ]
    }
   ],
   "source": [
    "# modules import section\n",
    "import csv\n",
    "import cv2\n",
    "import numpy as np\n",
    "import matplotlib.pyplot as plt\n",
    "import keras\n",
    "from keras.models import Sequential\n",
    "from keras.layers import Flatten, Dense, Lambda, Conv2D, Cropping2D\n",
    "from keras.layers.pooling import MaxPooling2D\n",
    "\n",
    "# import data\n",
    "# data buffers\n",
    "input_images = []\n",
    "lines = []\n",
    "output_values = []\n",
    "base_path = './data/'\n",
    "data_file_csv = open(base_path + 'driving_log.csv')\n",
    "data_reader = csv.reader(data_file_csv)\n",
    "first_line = True\n",
    "# read csv file\n",
    "print('Reading CSV...')\n",
    "for line in data_reader:\n",
    "    if first_line:\n",
    "        first_line = False\n",
    "    else:\n",
    "        lines.append(line)\n",
    "                     \n",
    "print('Amount of data items:' + str(len(lines)))\n",
    "\n",
    "# read images and output values\n",
    "print('Reading output values and images...')\n",
    "\n",
    "steering_correction = 0.2\n",
    "skip_images = 0\n",
    "for line in lines:\n",
    "    skip_images+= 1\n",
    "    if skip_images == 10:\n",
    "        skip_images = 0\n",
    "        for i in range(3):\n",
    "            image_file_name = line[i]\n",
    "            image_full_filename = image_file_name.split('/')[-1]\n",
    "            image_path = base_path + 'IMG/' + image_full_filename\n",
    "            image = cv2.imread(image_path)\n",
    "            input_images.append(image)\n",
    "        output_value_steering = float(line[3])\n",
    "        output_value_steering_left = output_value_steering + steering_correction\n",
    "        output_value_steering_right = output_value_steering - steering_correction\n",
    "        output_values.append(output_value_steering)\n",
    "        output_values.append(output_value_steering_left)\n",
    "        output_values.append(output_value_steering_right)\n",
    "\n",
    "aug_input_images = []\n",
    "aug_output_values = []\n",
    "for input_image, output_value in zip(input_images, output_values):\n",
    "    aug_input_images.append(input_image)\n",
    "    aug_output_values.append(output_value)\n",
    "    aug_input_images.append(cv2.flip(input_image, 1))\n",
    "    aug_output_values.append(-1.0 * output_value)\n",
    "\n",
    "# convert to np arrays\n",
    "X_train_data = np.array(aug_input_images)\n",
    "y_train_data = np.array(aug_output_values)\n",
    "    \n",
    "#create a nn with keras\n",
    "model = Sequential()\n",
    "model.add(Lambda(lambda x: x / 255.0 - 0.5, input_shape=(160, 320, 3)))\n",
    "model.add(Cropping2D(cropping=((70,25),(0,0))))\n",
    "model.add(Conv2D(6,(5,5),activation=\"relu\"))\n",
    "model.add(MaxPooling2D())\n",
    "model.add(Conv2D(6,(5,5),activation=\"relu\"))\n",
    "model.add(MaxPooling2D())\n",
    "model.add(Flatten())\n",
    "model.add(Dense(120))\n",
    "model.add(Dense(84))\n",
    "model.add(Dense(1))\n",
    "\n",
    "print('Training NN...')\n",
    "model.compile(loss='mse', optimizer='adam')\n",
    "fit_history =  model.fit(X_train_data, y_train_data, validation_split=0.2, \n",
    "                         shuffle=True, epochs=5, verbose=1)\n",
    "plt.plot(fit_history.history['loss'])\n",
    "plt.plot(fit_history.history['val_loss'])\n",
    "plt.title('model mean squared error loss')\n",
    "plt.ylabel('mean squared error loss')\n",
    "plt.xlabel('epoch')\n",
    "plt.legend(['training set', 'validation set'], loc='upper right')\n",
    "plt.show()\n",
    "\n",
    "model.save('model.h5')\n",
    "print('Trained model saved...')\n"
   ]
  },
  {
   "cell_type": "code",
   "execution_count": null,
   "metadata": {
    "collapsed": true
   },
   "outputs": [],
   "source": []
  }
 ],
 "metadata": {
  "kernelspec": {
   "display_name": "Python 3",
   "language": "python",
   "name": "python3"
  },
  "language_info": {
   "codemirror_mode": {
    "name": "ipython",
    "version": 3
   },
   "file_extension": ".py",
   "mimetype": "text/x-python",
   "name": "python",
   "nbconvert_exporter": "python",
   "pygments_lexer": "ipython3",
   "version": "3.5.2"
  }
 },
 "nbformat": 4,
 "nbformat_minor": 2
}
